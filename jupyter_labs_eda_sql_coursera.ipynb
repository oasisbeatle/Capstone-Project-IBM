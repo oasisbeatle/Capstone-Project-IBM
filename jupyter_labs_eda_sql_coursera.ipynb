{
  "nbformat": 4,
  "nbformat_minor": 0,
  "metadata": {
    "kernelspec": {
      "display_name": "Python 3",
      "language": "python",
      "name": "python3"
    },
    "language_info": {
      "codemirror_mode": {
        "name": "ipython",
        "version": 3
      },
      "file_extension": ".py",
      "mimetype": "text/x-python",
      "name": "python",
      "nbconvert_exporter": "python",
      "pygments_lexer": "ipython3",
      "version": "3.8.8"
    },
    "colab": {
      "name": "jupyter-labs-eda-sql-coursera.ipynb",
      "provenance": []
    }
  },
  "cells": [
    {
      "cell_type": "markdown",
      "metadata": {
        "id": "6fyl3rSficxK"
      },
      "source": [
        "<center>\n",
        "    <img src=\"https://gitlab.com/ibm/skills-network/courses/placeholder101/-/raw/master/labs/module%201/images/IDSNlogo.png\"  width=\"300\" alt=\"cognitiveclass.ai logo\"  />\n",
        "</center>\n",
        "\n",
        "<h1 align=center><font size = 5>Assignment: SQL Notebook for Peer Assignment</font></h1>\n",
        "\n",
        "Estimated time needed: **60** minutes.\n",
        "\n",
        "## Introduction\n",
        "\n",
        "Using this Python notebook you will:\n",
        "\n",
        "1.  Understand the Spacex DataSet\n",
        "2.  Load the dataset  into the corresponding table in a Db2 database\n",
        "3.  Execute SQL queries to answer assignment questions\n"
      ]
    },
    {
      "cell_type": "markdown",
      "metadata": {
        "id": "G2MrGeWIicxM"
      },
      "source": [
        "## Overview of the DataSet\n",
        "\n",
        "SpaceX has gained worldwide attention for a series of historic milestones.\n",
        "\n",
        "It is the only private company ever to return a spacecraft from low-earth orbit, which it first accomplished in December 2010.\n",
        "SpaceX advertises Falcon 9 rocket launches on its website with a cost of 62 million dollars wheras other providers cost upward of 165 million dollars each, much of the savings is because Space X can reuse the first stage.\n",
        "\n",
        "Therefore if we can determine if the first stage will land, we can determine the cost of a launch.\n",
        "\n",
        "This information can be used if an alternate company wants to bid against SpaceX for a rocket launch.\n",
        "\n",
        "This dataset includes a record for each payload carried during a SpaceX mission into outer space.\n"
      ]
    },
    {
      "cell_type": "markdown",
      "metadata": {
        "id": "47cyHKEUicxN"
      },
      "source": [
        "### Download the datasets\n",
        "\n",
        "This assignment requires you to load the spacex dataset.\n",
        "\n",
        "In many cases the dataset to be analyzed is available as a .CSV (comma separated values) file, perhaps on the internet. Click on the link below to download and save the dataset (.CSV file):\n",
        "\n",
        "<a href=\"https://cf-courses-data.s3.us.cloud-object-storage.appdomain.cloud/IBM-DS0321EN-SkillsNetwork/labs/module_2/data/Spacex.csv?utm_medium=Exinfluencer&utm_source=Exinfluencer&utm_content=000026UJ&utm_term=10006555&utm_id=NA-SkillsNetwork-Channel-SkillsNetworkCoursesIBMDS0321ENSkillsNetwork26802033-2021-01-01\" target=\"_blank\">Spacex DataSet</a>\n"
      ]
    },
    {
      "cell_type": "markdown",
      "metadata": {
        "id": "M4FHEQMgicxO"
      },
      "source": [
        "### Store the dataset in database table\n",
        "\n",
        "**it is highly recommended to manually load the table using the database console LOAD tool in DB2**.\n",
        "\n",
        "<img src = \"https://cf-courses-data.s3.us.cloud-object-storage.appdomain.cloud/IBM-DS0321EN-SkillsNetwork/labs/module_2/images/spacexload.png\">\n",
        "\n",
        "Now open the Db2 console, open the LOAD tool, Select / Drag the .CSV file for the  dataset, Next create a New Table, and then follow the steps on-screen instructions to load the data. Name the new table as follows:\n",
        "\n",
        "**SPACEXDATASET**\n",
        "\n",
        "**Follow these steps while using old DB2 UI which is having Open Console Screen**\n",
        "\n",
        "**Note:While loading Spacex dataset, ensure that detect datatypes is disabled. Later click on the pencil icon(edit option).**\n",
        "\n",
        "1.  Change the Date Format by manually typing DD-MM-YYYY and timestamp format as DD-MM-YYYY HH\\:MM:SS\n",
        "\n",
        "2.  Change the PAYLOAD_MASS\\_\\_KG\\_  datatype  to INTEGER.\n",
        "\n",
        "<img src = \"https://cf-courses-data.s3.us.cloud-object-storage.appdomain.cloud/IBM-DS0321EN-SkillsNetwork/labs/module_2/images/spacexload2.png\">\n"
      ]
    },
    {
      "cell_type": "markdown",
      "metadata": {
        "id": "F1BuZzygicxP"
      },
      "source": [
        "**Changes to be considered when having DB2 instance with the new UI having Go to UI screen**\n",
        "\n",
        "*   Refer to this insruction in this <a href=\"https://cf-courses-data.s3.us.cloud-object-storage.appdomain.cloud/IBMDeveloperSkillsNetwork-DB0201EN-SkillsNetwork/labs/Labs_Coursera_V5/labs/Lab%20-%20Sign%20up%20for%20IBM%20Cloud%20-%20Create%20Db2%20service%20instance%20-%20Get%20started%20with%20the%20Db2%20console/instructional-labs.md.html?utm_medium=Exinfluencer&utm_source=Exinfluencer&utm_content=000026UJ&utm_term=10006555&utm_id=NA-SkillsNetwork-Channel-SkillsNetworkCoursesIBMDS0321ENSkillsNetwork26802033-2021-01-01\">link</a> for viewing  the new  Go to UI screen.\n",
        "\n",
        "*   Later click on **Data link(below SQL)**  in the Go to UI screen  and click on **Load Data** tab.\n",
        "\n",
        "*   Later browse for the downloaded spacex file.\n",
        "\n",
        "<img src=\"https://cf-courses-data.s3.us.cloud-object-storage.appdomain.cloud/IBM-DS0321EN-SkillsNetwork/labs/module_2/images/browsefile.png\" width=\"800\"/>\n",
        "\n",
        "*   Once done select the schema andload the file.\n",
        "\n",
        " <img src=\"https://cf-courses-data.s3.us.cloud-object-storage.appdomain.cloud/IBM-DS0321EN-SkillsNetwork/labs/module_2/images/spacexload3.png\" width=\"800\"/>\n"
      ]
    },
    {
      "cell_type": "code",
      "metadata": {
        "colab": {
          "base_uri": "https://localhost:8080/"
        },
        "id": "NdsQRYY0icxQ",
        "outputId": "e284b19c-16e5-40a6-d4de-0670562e6946"
      },
      "source": [
        "!pip install ipython-sql\n",
        "!pip install ibm_db \n",
        "!pip install ibm_db_sa\n",
        "!pip install sqlalchemy==1.3.9"
      ],
      "execution_count": 1,
      "outputs": [
        {
          "output_type": "stream",
          "name": "stdout",
          "text": [
            "Requirement already satisfied: ipython-sql in /usr/local/lib/python3.7/dist-packages (0.3.9)\n",
            "Requirement already satisfied: prettytable in /usr/local/lib/python3.7/dist-packages (from ipython-sql) (2.1.0)\n",
            "Requirement already satisfied: ipython>=1.0 in /usr/local/lib/python3.7/dist-packages (from ipython-sql) (5.5.0)\n",
            "Requirement already satisfied: sqlalchemy>=0.6.7 in /usr/local/lib/python3.7/dist-packages (from ipython-sql) (1.4.22)\n",
            "Requirement already satisfied: six in /usr/local/lib/python3.7/dist-packages (from ipython-sql) (1.15.0)\n",
            "Requirement already satisfied: ipython-genutils>=0.1.0 in /usr/local/lib/python3.7/dist-packages (from ipython-sql) (0.2.0)\n",
            "Requirement already satisfied: sqlparse in /usr/local/lib/python3.7/dist-packages (from ipython-sql) (0.4.1)\n",
            "Requirement already satisfied: setuptools>=18.5 in /usr/local/lib/python3.7/dist-packages (from ipython>=1.0->ipython-sql) (57.4.0)\n",
            "Requirement already satisfied: pickleshare in /usr/local/lib/python3.7/dist-packages (from ipython>=1.0->ipython-sql) (0.7.5)\n",
            "Requirement already satisfied: traitlets>=4.2 in /usr/local/lib/python3.7/dist-packages (from ipython>=1.0->ipython-sql) (5.0.5)\n",
            "Requirement already satisfied: prompt-toolkit<2.0.0,>=1.0.4 in /usr/local/lib/python3.7/dist-packages (from ipython>=1.0->ipython-sql) (1.0.18)\n",
            "Requirement already satisfied: pexpect in /usr/local/lib/python3.7/dist-packages (from ipython>=1.0->ipython-sql) (4.8.0)\n",
            "Requirement already satisfied: simplegeneric>0.8 in /usr/local/lib/python3.7/dist-packages (from ipython>=1.0->ipython-sql) (0.8.1)\n",
            "Requirement already satisfied: decorator in /usr/local/lib/python3.7/dist-packages (from ipython>=1.0->ipython-sql) (4.4.2)\n",
            "Requirement already satisfied: pygments in /usr/local/lib/python3.7/dist-packages (from ipython>=1.0->ipython-sql) (2.6.1)\n",
            "Requirement already satisfied: wcwidth in /usr/local/lib/python3.7/dist-packages (from prompt-toolkit<2.0.0,>=1.0.4->ipython>=1.0->ipython-sql) (0.2.5)\n",
            "Requirement already satisfied: importlib-metadata in /usr/local/lib/python3.7/dist-packages (from sqlalchemy>=0.6.7->ipython-sql) (4.6.4)\n",
            "Requirement already satisfied: greenlet!=0.4.17 in /usr/local/lib/python3.7/dist-packages (from sqlalchemy>=0.6.7->ipython-sql) (1.1.1)\n",
            "Requirement already satisfied: typing-extensions>=3.6.4 in /usr/local/lib/python3.7/dist-packages (from importlib-metadata->sqlalchemy>=0.6.7->ipython-sql) (3.7.4.3)\n",
            "Requirement already satisfied: zipp>=0.5 in /usr/local/lib/python3.7/dist-packages (from importlib-metadata->sqlalchemy>=0.6.7->ipython-sql) (3.5.0)\n",
            "Requirement already satisfied: ptyprocess>=0.5 in /usr/local/lib/python3.7/dist-packages (from pexpect->ipython>=1.0->ipython-sql) (0.7.0)\n",
            "Collecting ibm_db\n",
            "  Downloading ibm_db-3.0.4.tar.gz (796 kB)\n",
            "\u001b[K     |████████████████████████████████| 796 kB 7.6 MB/s \n",
            "\u001b[?25hBuilding wheels for collected packages: ibm-db\n",
            "  Building wheel for ibm-db (setup.py) ... \u001b[?25l\u001b[?25hdone\n",
            "  Created wheel for ibm-db: filename=ibm_db-3.0.4-cp37-cp37m-linux_x86_64.whl size=40999836 sha256=8f9080ef58fd1df23b61a23c7d1f4008841fe816c7e66e12bd19d014106e6510\n",
            "  Stored in directory: /root/.cache/pip/wheels/f4/46/2e/08b8d4903c892964edb8279f98da26d0d2d804054d2858ea46\n",
            "Successfully built ibm-db\n",
            "Installing collected packages: ibm-db\n",
            "Successfully installed ibm-db-3.0.4\n",
            "Collecting ibm_db_sa\n",
            "  Downloading ibm_db_sa-0.3.7.tar.gz (30 kB)\n",
            "Requirement already satisfied: sqlalchemy>=0.7.3 in /usr/local/lib/python3.7/dist-packages (from ibm_db_sa) (1.4.22)\n",
            "Requirement already satisfied: ibm_db>=2.0.0 in /usr/local/lib/python3.7/dist-packages (from ibm_db_sa) (3.0.4)\n",
            "Requirement already satisfied: greenlet!=0.4.17 in /usr/local/lib/python3.7/dist-packages (from sqlalchemy>=0.7.3->ibm_db_sa) (1.1.1)\n",
            "Requirement already satisfied: importlib-metadata in /usr/local/lib/python3.7/dist-packages (from sqlalchemy>=0.7.3->ibm_db_sa) (4.6.4)\n",
            "Requirement already satisfied: zipp>=0.5 in /usr/local/lib/python3.7/dist-packages (from importlib-metadata->sqlalchemy>=0.7.3->ibm_db_sa) (3.5.0)\n",
            "Requirement already satisfied: typing-extensions>=3.6.4 in /usr/local/lib/python3.7/dist-packages (from importlib-metadata->sqlalchemy>=0.7.3->ibm_db_sa) (3.7.4.3)\n",
            "Building wheels for collected packages: ibm-db-sa\n",
            "  Building wheel for ibm-db-sa (setup.py) ... \u001b[?25l\u001b[?25hdone\n",
            "  Created wheel for ibm-db-sa: filename=ibm_db_sa-0.3.7-py3-none-any.whl size=29318 sha256=f90fdbe81001de9725fd8997e4062ac183bb8bfcebfde288ce34e19f962d928b\n",
            "  Stored in directory: /root/.cache/pip/wheels/4a/e9/e7/0ee334a6cb2f09ec45978e05837b66f59494b482ef38c7ae33\n",
            "Successfully built ibm-db-sa\n",
            "Installing collected packages: ibm-db-sa\n",
            "Successfully installed ibm-db-sa-0.3.7\n",
            "Collecting sqlalchemy==1.3.9\n",
            "  Downloading SQLAlchemy-1.3.9.tar.gz (6.0 MB)\n",
            "\u001b[K     |████████████████████████████████| 6.0 MB 7.0 MB/s \n",
            "\u001b[?25hBuilding wheels for collected packages: sqlalchemy\n",
            "  Building wheel for sqlalchemy (setup.py) ... \u001b[?25l\u001b[?25hdone\n",
            "  Created wheel for sqlalchemy: filename=SQLAlchemy-1.3.9-cp37-cp37m-linux_x86_64.whl size=1203565 sha256=f5e698ee4f251dcc03d39706e98c6dc7e1eb2825676969736b52b961b1583cd4\n",
            "  Stored in directory: /root/.cache/pip/wheels/03/71/13/010faf12246f72dc76b4150e6e599d13a85b4435e06fb9e51f\n",
            "Successfully built sqlalchemy\n",
            "Installing collected packages: sqlalchemy\n",
            "  Attempting uninstall: sqlalchemy\n",
            "    Found existing installation: SQLAlchemy 1.4.22\n",
            "    Uninstalling SQLAlchemy-1.4.22:\n",
            "      Successfully uninstalled SQLAlchemy-1.4.22\n",
            "Successfully installed sqlalchemy-1.3.9\n"
          ]
        }
      ]
    },
    {
      "cell_type": "markdown",
      "metadata": {
        "id": "2Q21RZusicxQ"
      },
      "source": [
        "### Connect to the database\n",
        "\n",
        "Let us first load the SQL extension and establish a connection with the database\n"
      ]
    },
    {
      "cell_type": "code",
      "metadata": {
        "id": "zuBW4fDlicxR"
      },
      "source": [
        "%load_ext sql"
      ],
      "execution_count": 2,
      "outputs": []
    },
    {
      "cell_type": "markdown",
      "metadata": {
        "id": "9xxmEizHicxS"
      },
      "source": [
        "**DB2 magic in case of old UI service credentials.**\n",
        "\n",
        "In the next cell enter your db2 connection string. Recall you created Service Credentials for your Db2 instance before. From the **uri** field of your Db2 service credentials copy everything after db2:// (except the double quote at the end) and paste it in the cell below after ibm_db_sa://\n",
        "\n",
        "<img src =\"https://cf-courses-data.s3.us.cloud-object-storage.appdomain.cloud/IBMDeveloperSkillsNetwork-DB0201EN-SkillsNetwork/labs/FinalModule_edX/images/URI.jpg\">\n",
        "\n",
        "in the following format\n",
        "\n",
        "**%sql ibm_db_sa://my-username:my-password\\@my-hostname:my-port/my-db-name**\n",
        "\n",
        "**DB2 magic in case of new UI service credentials.**\n",
        "\n",
        "<img src =\"https://cf-courses-data.s3.us.cloud-object-storage.appdomain.cloud/IBM-DS0321EN-SkillsNetwork/labs/module_2/images/servicecredentials.png\" width=600>  \n",
        "\n",
        "*   Use the following format.\n",
        "\n",
        "*   Add security=SSL at the end\n",
        "\n",
        "**%sql ibm_db_sa://my-username:my-password\\@my-hostname:my-port/my-db-name?security=SSL**\n"
      ]
    },
    {
      "cell_type": "code",
      "metadata": {
        "id": "46nKUVIgicxS"
      },
      "source": [
        "import ibm_db\n",
        "import pandas as pd\n"
      ],
      "execution_count": 3,
      "outputs": []
    },
    {
      "cell_type": "code",
      "metadata": {
        "colab": {
          "base_uri": "https://localhost:8080/"
        },
        "id": "fUsFWGZk1UZk",
        "outputId": "3e965931-a7de-4ec1-b27b-fff41d9a908e"
      },
      "source": [
        "dsn_hostname = \"fbd88901-ebdb-4a4f-a32e-9822b9fb237b.c1ogj3sd0tgtu0lqde00.databases.appdomain.cloud\" # e.g.: \"dashdb-txn-sbox-yp-dal09-04.services.dal.bluemix.net\"\n",
        "dsn_uid = \"byt47810\"        # e.g. \"abc12345\"\n",
        "dsn_pwd = \"eu9obHNRmwAINm1E\"      # e.g. \"7dBZ3wWt9XN6$o0J\"\n",
        "\n",
        "dsn_driver = \"{IBM DB2 ODBC DRIVER}\"\n",
        "dsn_database = \"bludb\"            # e.g. \"BLUDB\"\n",
        "dsn_port = \"32731\"                # e.g. \"50000\" \n",
        "dsn_protocol = \"TCPIP\"            # i.e. \"TCPIP\"\n",
        "dsn_security=\"SSL\"\n",
        "\n",
        "#Create the dsn connection string\n",
        "dsn = (\n",
        "    \"DRIVER={0};\"\n",
        "    \"DATABASE={1};\"\n",
        "    \"HOSTNAME={2};\"\n",
        "    \"PORT={3};\"\n",
        "    \"PROTOCOL={4};\"\n",
        "    \"UID={5};\"\n",
        "    \"PWD={6};\"\n",
        "    \"SECURITY={7};\"\n",
        "   ).format(dsn_driver, dsn_database, dsn_hostname, dsn_port, dsn_protocol, dsn_uid, dsn_pwd,dsn_security)\n",
        "try:\n",
        "    conn = ibm_db.connect(dsn, \"\", \"\")\n",
        "    print (\"Connected to database: \", dsn_database, \"as user: \", dsn_uid, \"on host: \", dsn_hostname)\n",
        "\n",
        "except:\n",
        "    print (\"Unable to connect: \", ibm_db.conn_errormsg() )\n",
        "df = pd.read_csv(\"https://cf-courses-data.s3.us.cloud-object-storage.appdomain.cloud/IBM-DS0321EN-SkillsNetwork/labs/module_2/data/Spacex.csv\")\n",
        "df['Date'] = pd.to_datetime(df['Date'])\n",
        "df['Date'] =df['Date'].dt.date\n",
        "\n",
        "sql = \"INSERT INTO BYT47810.FALCON9 VALUES(?,?,?,?,?,?,?,?,?,?)\"\n",
        "\n",
        "#convert it into tuples else the result set will give an error\n",
        "tuple_of_tuples = tuple([tuple(x) for x in df.values])\n",
        "stmt = ibm_db.prepare(conn,sql )\n",
        "ibm_db.execute_many(stmt, tuple_of_tuples)\n"
      ],
      "execution_count": 4,
      "outputs": [
        {
          "output_type": "stream",
          "name": "stdout",
          "text": [
            "Connected to database:  bludb as user:  byt47810 on host:  fbd88901-ebdb-4a4f-a32e-9822b9fb237b.c1ogj3sd0tgtu0lqde00.databases.appdomain.cloud\n"
          ]
        },
        {
          "output_type": "execute_result",
          "data": {
            "text/plain": [
              "101"
            ]
          },
          "metadata": {},
          "execution_count": 4
        }
      ]
    },
    {
      "cell_type": "markdown",
      "metadata": {
        "id": "Jvlecv-2re7g"
      },
      "source": [
        ""
      ]
    },
    {
      "cell_type": "markdown",
      "metadata": {
        "id": "YKv9CEb-tMUH"
      },
      "source": [
        ""
      ]
    },
    {
      "cell_type": "code",
      "metadata": {
        "id": "_SJnYATCicxT"
      },
      "source": [
        "import ibm_db_dbi\n",
        "pconn = ibm_db_dbi.Connection(conn)"
      ],
      "execution_count": 5,
      "outputs": []
    },
    {
      "cell_type": "markdown",
      "metadata": {
        "id": "BLC4XvMricxU"
      },
      "source": [
        "## Tasks\n",
        "\n",
        "Now write and execute SQL queries to solve the assignment tasks.\n",
        "\n",
        "### Task 1\n",
        "\n",
        "##### Display the names of the unique launch sites  in the space mission\n"
      ]
    },
    {
      "cell_type": "code",
      "metadata": {
        "id": "_LJ0ZYomicxU",
        "colab": {
          "base_uri": "https://localhost:8080/",
          "height": 173
        },
        "outputId": "de25abd2-cada-4d08-f7d2-10984572f366"
      },
      "source": [
        "sql = \"SELECT DISTINCT LAUNCH_SITE FROM FALCON9\"\n",
        "df = pd.read_sql(sql, pconn)\n",
        "df"
      ],
      "execution_count": 8,
      "outputs": [
        {
          "output_type": "execute_result",
          "data": {
            "text/html": [
              "<div>\n",
              "<style scoped>\n",
              "    .dataframe tbody tr th:only-of-type {\n",
              "        vertical-align: middle;\n",
              "    }\n",
              "\n",
              "    .dataframe tbody tr th {\n",
              "        vertical-align: top;\n",
              "    }\n",
              "\n",
              "    .dataframe thead th {\n",
              "        text-align: right;\n",
              "    }\n",
              "</style>\n",
              "<table border=\"1\" class=\"dataframe\">\n",
              "  <thead>\n",
              "    <tr style=\"text-align: right;\">\n",
              "      <th></th>\n",
              "      <th>LAUNCH_SITE</th>\n",
              "    </tr>\n",
              "  </thead>\n",
              "  <tbody>\n",
              "    <tr>\n",
              "      <th>0</th>\n",
              "      <td>CCAFS LC-40</td>\n",
              "    </tr>\n",
              "    <tr>\n",
              "      <th>1</th>\n",
              "      <td>CCAFS SLC-40</td>\n",
              "    </tr>\n",
              "    <tr>\n",
              "      <th>2</th>\n",
              "      <td>KSC LC-39A</td>\n",
              "    </tr>\n",
              "    <tr>\n",
              "      <th>3</th>\n",
              "      <td>VAFB SLC-4E</td>\n",
              "    </tr>\n",
              "  </tbody>\n",
              "</table>\n",
              "</div>"
            ],
            "text/plain": [
              "    LAUNCH_SITE\n",
              "0   CCAFS LC-40\n",
              "1  CCAFS SLC-40\n",
              "2    KSC LC-39A\n",
              "3   VAFB SLC-4E"
            ]
          },
          "metadata": {},
          "execution_count": 8
        }
      ]
    },
    {
      "cell_type": "markdown",
      "metadata": {
        "id": "Jr9ENVd4icxU"
      },
      "source": [
        "### Task 2\n",
        "\n",
        "##### Display 5 records where launch sites begin with the string 'CCA'\n"
      ]
    },
    {
      "cell_type": "code",
      "metadata": {
        "id": "xjjrdQZkicxV",
        "colab": {
          "base_uri": "https://localhost:8080/",
          "height": 411
        },
        "outputId": "92a42918-b183-46a5-b9d1-f5975df263aa"
      },
      "source": [
        "sql = \"SELECT * FROM FALCON9 WHERE LAUNCH_SITE LIKE '%CCA%'\"\n",
        "df = pd.read_sql(sql, pconn)\n",
        "df.head()"
      ],
      "execution_count": 9,
      "outputs": [
        {
          "output_type": "execute_result",
          "data": {
            "text/html": [
              "<div>\n",
              "<style scoped>\n",
              "    .dataframe tbody tr th:only-of-type {\n",
              "        vertical-align: middle;\n",
              "    }\n",
              "\n",
              "    .dataframe tbody tr th {\n",
              "        vertical-align: top;\n",
              "    }\n",
              "\n",
              "    .dataframe thead th {\n",
              "        text-align: right;\n",
              "    }\n",
              "</style>\n",
              "<table border=\"1\" class=\"dataframe\">\n",
              "  <thead>\n",
              "    <tr style=\"text-align: right;\">\n",
              "      <th></th>\n",
              "      <th>DATE</th>\n",
              "      <th>TIME__UTC_</th>\n",
              "      <th>BOOSTER_VERSION</th>\n",
              "      <th>LAUNCH_SITE</th>\n",
              "      <th>PAYLOAD</th>\n",
              "      <th>PAYLOAD_MASS__KG_</th>\n",
              "      <th>ORBIT</th>\n",
              "      <th>CUSTOMER</th>\n",
              "      <th>MISSION_OUTCOME</th>\n",
              "      <th>LANDING__OUTCOME</th>\n",
              "    </tr>\n",
              "  </thead>\n",
              "  <tbody>\n",
              "    <tr>\n",
              "      <th>0</th>\n",
              "      <td>2010-04-06</td>\n",
              "      <td>18:45:00</td>\n",
              "      <td>F9 v1.0  B0003</td>\n",
              "      <td>CCAFS LC-40</td>\n",
              "      <td>Dragon Spacecraft Qualification Unit</td>\n",
              "      <td>0</td>\n",
              "      <td>LEO</td>\n",
              "      <td>SpaceX</td>\n",
              "      <td>Success</td>\n",
              "      <td>Failure (parachute)</td>\n",
              "    </tr>\n",
              "    <tr>\n",
              "      <th>1</th>\n",
              "      <td>2010-08-12</td>\n",
              "      <td>15:43:00</td>\n",
              "      <td>F9 v1.0  B0004</td>\n",
              "      <td>CCAFS LC-40</td>\n",
              "      <td>Dragon demo flight C1, two CubeSats, barrel of...</td>\n",
              "      <td>0</td>\n",
              "      <td>LEO (ISS)</td>\n",
              "      <td>NASA (COTS) NRO</td>\n",
              "      <td>Success</td>\n",
              "      <td>Failure (parachute)</td>\n",
              "    </tr>\n",
              "    <tr>\n",
              "      <th>2</th>\n",
              "      <td>2012-05-22</td>\n",
              "      <td>07:44:00</td>\n",
              "      <td>F9 v1.0  B0005</td>\n",
              "      <td>CCAFS LC-40</td>\n",
              "      <td>Dragon demo flight C2</td>\n",
              "      <td>525</td>\n",
              "      <td>LEO (ISS)</td>\n",
              "      <td>NASA (COTS)</td>\n",
              "      <td>Success</td>\n",
              "      <td>No attempt</td>\n",
              "    </tr>\n",
              "    <tr>\n",
              "      <th>3</th>\n",
              "      <td>2012-08-10</td>\n",
              "      <td>00:35:00</td>\n",
              "      <td>F9 v1.0  B0006</td>\n",
              "      <td>CCAFS LC-40</td>\n",
              "      <td>SpaceX CRS-1</td>\n",
              "      <td>500</td>\n",
              "      <td>LEO (ISS)</td>\n",
              "      <td>NASA (CRS)</td>\n",
              "      <td>Success</td>\n",
              "      <td>No attempt</td>\n",
              "    </tr>\n",
              "    <tr>\n",
              "      <th>4</th>\n",
              "      <td>2013-01-03</td>\n",
              "      <td>15:10:00</td>\n",
              "      <td>F9 v1.0  B0007</td>\n",
              "      <td>CCAFS LC-40</td>\n",
              "      <td>SpaceX CRS-2</td>\n",
              "      <td>677</td>\n",
              "      <td>LEO (ISS)</td>\n",
              "      <td>NASA (CRS)</td>\n",
              "      <td>Success</td>\n",
              "      <td>No attempt</td>\n",
              "    </tr>\n",
              "  </tbody>\n",
              "</table>\n",
              "</div>"
            ],
            "text/plain": [
              "         DATE TIME__UTC_  ... MISSION_OUTCOME     LANDING__OUTCOME\n",
              "0  2010-04-06   18:45:00  ...         Success  Failure (parachute)\n",
              "1  2010-08-12   15:43:00  ...         Success  Failure (parachute)\n",
              "2  2012-05-22   07:44:00  ...         Success           No attempt\n",
              "3  2012-08-10   00:35:00  ...         Success           No attempt\n",
              "4  2013-01-03   15:10:00  ...         Success           No attempt\n",
              "\n",
              "[5 rows x 10 columns]"
            ]
          },
          "metadata": {},
          "execution_count": 9
        }
      ]
    },
    {
      "cell_type": "markdown",
      "metadata": {
        "id": "EPYfQwKRicxW"
      },
      "source": [
        "### Task 3\n",
        "\n",
        "##### Display the total payload mass carried by boosters launched by NASA (CRS)\n"
      ]
    },
    {
      "cell_type": "code",
      "metadata": {
        "id": "rVg8szvNicxX",
        "colab": {
          "base_uri": "https://localhost:8080/",
          "height": 80
        },
        "outputId": "95b107b5-b256-42f0-d77f-b042eb7d9798"
      },
      "source": [
        "sql = \"SELECT SUM(PAYLOAD_MASS__KG_) as payload_sum FROM FALCON9 WHERE CUSTOMER='NASA (CRS)'\"\n",
        "df = pd.read_sql(sql, pconn)\n",
        "df"
      ],
      "execution_count": 10,
      "outputs": [
        {
          "output_type": "execute_result",
          "data": {
            "text/html": [
              "<div>\n",
              "<style scoped>\n",
              "    .dataframe tbody tr th:only-of-type {\n",
              "        vertical-align: middle;\n",
              "    }\n",
              "\n",
              "    .dataframe tbody tr th {\n",
              "        vertical-align: top;\n",
              "    }\n",
              "\n",
              "    .dataframe thead th {\n",
              "        text-align: right;\n",
              "    }\n",
              "</style>\n",
              "<table border=\"1\" class=\"dataframe\">\n",
              "  <thead>\n",
              "    <tr style=\"text-align: right;\">\n",
              "      <th></th>\n",
              "      <th>PAYLOAD_SUM</th>\n",
              "    </tr>\n",
              "  </thead>\n",
              "  <tbody>\n",
              "    <tr>\n",
              "      <th>0</th>\n",
              "      <td>45596</td>\n",
              "    </tr>\n",
              "  </tbody>\n",
              "</table>\n",
              "</div>"
            ],
            "text/plain": [
              "   PAYLOAD_SUM\n",
              "0        45596"
            ]
          },
          "metadata": {},
          "execution_count": 10
        }
      ]
    },
    {
      "cell_type": "markdown",
      "metadata": {
        "id": "8NNazQXRicxX"
      },
      "source": [
        "### Task 4\n",
        "\n",
        "##### Display average payload mass carried by booster version F9 v1.1\n"
      ]
    },
    {
      "cell_type": "code",
      "metadata": {
        "id": "UcL8ue8FicxX",
        "colab": {
          "base_uri": "https://localhost:8080/",
          "height": 80
        },
        "outputId": "d7230778-372f-4390-d307-9372ee6460b4"
      },
      "source": [
        "sql = \"SELECT AVG(PAYLOAD_MASS__KG_) as payload_avg FROM FALCON9 WHERE BOOSTER_VERSION='F9 v1.1'\"\n",
        "df = pd.read_sql(sql, pconn)\n",
        "df"
      ],
      "execution_count": 11,
      "outputs": [
        {
          "output_type": "execute_result",
          "data": {
            "text/html": [
              "<div>\n",
              "<style scoped>\n",
              "    .dataframe tbody tr th:only-of-type {\n",
              "        vertical-align: middle;\n",
              "    }\n",
              "\n",
              "    .dataframe tbody tr th {\n",
              "        vertical-align: top;\n",
              "    }\n",
              "\n",
              "    .dataframe thead th {\n",
              "        text-align: right;\n",
              "    }\n",
              "</style>\n",
              "<table border=\"1\" class=\"dataframe\">\n",
              "  <thead>\n",
              "    <tr style=\"text-align: right;\">\n",
              "      <th></th>\n",
              "      <th>PAYLOAD_AVG</th>\n",
              "    </tr>\n",
              "  </thead>\n",
              "  <tbody>\n",
              "    <tr>\n",
              "      <th>0</th>\n",
              "      <td>2928</td>\n",
              "    </tr>\n",
              "  </tbody>\n",
              "</table>\n",
              "</div>"
            ],
            "text/plain": [
              "   PAYLOAD_AVG\n",
              "0         2928"
            ]
          },
          "metadata": {},
          "execution_count": 11
        }
      ]
    },
    {
      "cell_type": "markdown",
      "metadata": {
        "id": "WnFZnW2iicxY"
      },
      "source": [
        "### Task 5\n",
        "\n",
        "##### List the date when the first successful landing outcome in ground pad was acheived.\n",
        "\n",
        "*Hint:Use min function*\n"
      ]
    },
    {
      "cell_type": "code",
      "metadata": {
        "id": "tOtt6t0YicxY",
        "colab": {
          "base_uri": "https://localhost:8080/",
          "height": 80
        },
        "outputId": "09f940d7-3bbd-44ea-ef39-2f1c028428c1"
      },
      "source": [
        "sql = \"SELECT MIN(DATE) as FIRST_SUCCESS FROM FALCON9 WHERE LANDING__OUTCOME='Success (ground pad)'\"\n",
        "df = pd.read_sql(sql, pconn)\n",
        "df"
      ],
      "execution_count": 12,
      "outputs": [
        {
          "output_type": "execute_result",
          "data": {
            "text/html": [
              "<div>\n",
              "<style scoped>\n",
              "    .dataframe tbody tr th:only-of-type {\n",
              "        vertical-align: middle;\n",
              "    }\n",
              "\n",
              "    .dataframe tbody tr th {\n",
              "        vertical-align: top;\n",
              "    }\n",
              "\n",
              "    .dataframe thead th {\n",
              "        text-align: right;\n",
              "    }\n",
              "</style>\n",
              "<table border=\"1\" class=\"dataframe\">\n",
              "  <thead>\n",
              "    <tr style=\"text-align: right;\">\n",
              "      <th></th>\n",
              "      <th>FIRST_SUCCESS</th>\n",
              "    </tr>\n",
              "  </thead>\n",
              "  <tbody>\n",
              "    <tr>\n",
              "      <th>0</th>\n",
              "      <td>2015-12-22</td>\n",
              "    </tr>\n",
              "  </tbody>\n",
              "</table>\n",
              "</div>"
            ],
            "text/plain": [
              "  FIRST_SUCCESS\n",
              "0    2015-12-22"
            ]
          },
          "metadata": {},
          "execution_count": 12
        }
      ]
    },
    {
      "cell_type": "markdown",
      "metadata": {
        "id": "UAwTJjj_icxZ"
      },
      "source": [
        "### Task 6\n",
        "\n",
        "##### List the names of the boosters which have success in drone ship and have payload mass greater than 4000 but less than 6000\n"
      ]
    },
    {
      "cell_type": "code",
      "metadata": {
        "id": "eNdmXNUWicxZ",
        "colab": {
          "base_uri": "https://localhost:8080/",
          "height": 173
        },
        "outputId": "5f63a7b2-d9ea-4d02-bae8-5aae30dc1cf5"
      },
      "source": [
        "sql = \"SELECT BOOSTER_VERSION FROM FALCON9 WHERE LANDING__OUTCOME='Success (drone ship)' AND PAYLOAD_MASS__KG_ > 4000 AND PAYLOAD_MASS__KG_ < 6000 \"\n",
        "df = pd.read_sql(sql, pconn)\n",
        "df"
      ],
      "execution_count": 13,
      "outputs": [
        {
          "output_type": "execute_result",
          "data": {
            "text/html": [
              "<div>\n",
              "<style scoped>\n",
              "    .dataframe tbody tr th:only-of-type {\n",
              "        vertical-align: middle;\n",
              "    }\n",
              "\n",
              "    .dataframe tbody tr th {\n",
              "        vertical-align: top;\n",
              "    }\n",
              "\n",
              "    .dataframe thead th {\n",
              "        text-align: right;\n",
              "    }\n",
              "</style>\n",
              "<table border=\"1\" class=\"dataframe\">\n",
              "  <thead>\n",
              "    <tr style=\"text-align: right;\">\n",
              "      <th></th>\n",
              "      <th>BOOSTER_VERSION</th>\n",
              "    </tr>\n",
              "  </thead>\n",
              "  <tbody>\n",
              "    <tr>\n",
              "      <th>0</th>\n",
              "      <td>F9 FT B1022</td>\n",
              "    </tr>\n",
              "    <tr>\n",
              "      <th>1</th>\n",
              "      <td>F9 FT B1026</td>\n",
              "    </tr>\n",
              "    <tr>\n",
              "      <th>2</th>\n",
              "      <td>F9 FT  B1021.2</td>\n",
              "    </tr>\n",
              "    <tr>\n",
              "      <th>3</th>\n",
              "      <td>F9 FT  B1031.2</td>\n",
              "    </tr>\n",
              "  </tbody>\n",
              "</table>\n",
              "</div>"
            ],
            "text/plain": [
              "  BOOSTER_VERSION\n",
              "0     F9 FT B1022\n",
              "1     F9 FT B1026\n",
              "2  F9 FT  B1021.2\n",
              "3  F9 FT  B1031.2"
            ]
          },
          "metadata": {},
          "execution_count": 13
        }
      ]
    },
    {
      "cell_type": "markdown",
      "metadata": {
        "id": "mAu0hf-ficxa"
      },
      "source": [
        "### Task 7\n",
        "\n",
        "##### List the total number of successful and failure mission outcomes\n"
      ]
    },
    {
      "cell_type": "code",
      "metadata": {
        "id": "mS2iMZyoicxa"
      },
      "source": [
        "sql = \"SELECT COUNT(MISSION_OUTCOME) as Successful_Mission_Outcome FROM FALCON9 where MISSION_OUTCOME LIKE '%Success%'\"\n",
        "sql2 = \"SELECT COUNT(MISSION_OUTCOME) as Failed_Mission_Outcome FROM FALCON9 where MISSION_OUTCOME LIKE '%Failure%'\"\n",
        "df = pd.read_sql(sql, pconn)\n",
        "df2 = pd.read_sql(sql2, pconn)\n"
      ],
      "execution_count": 20,
      "outputs": []
    },
    {
      "cell_type": "code",
      "metadata": {
        "colab": {
          "base_uri": "https://localhost:8080/",
          "height": 61
        },
        "id": "HYIYFrF1ORZS",
        "outputId": "e80700c7-9e20-4936-faff-b42f1e243753"
      },
      "source": [
        "from IPython.display import display_html \n",
        "\n",
        "df_styler = df.style.set_table_attributes(\"style='display:inline'\")\n",
        "df2_styler = df2.style.set_table_attributes(\"style='display:inline'\")\n",
        "\n",
        "display_html(df_styler._repr_html_()+df2_styler._repr_html_(), raw=True)"
      ],
      "execution_count": 21,
      "outputs": [
        {
          "output_type": "display_data",
          "data": {
            "text/html": [
              "<style  type=\"text/css\" >\n",
              "</style><table id=\"T_41c8b47a_1217_11ec_854d_0242ac1c0002\" style='display:inline'><thead>    <tr>        <th class=\"blank level0\" ></th>        <th class=\"col_heading level0 col0\" >SUCCESSFUL_MISSION_OUTCOME</th>    </tr></thead><tbody>\n",
              "                <tr>\n",
              "                        <th id=\"T_41c8b47a_1217_11ec_854d_0242ac1c0002level0_row0\" class=\"row_heading level0 row0\" >0</th>\n",
              "                        <td id=\"T_41c8b47a_1217_11ec_854d_0242ac1c0002row0_col0\" class=\"data row0 col0\" >100</td>\n",
              "            </tr>\n",
              "    </tbody></table><style  type=\"text/css\" >\n",
              "</style><table id=\"T_41c8e710_1217_11ec_854d_0242ac1c0002\" style='display:inline'><thead>    <tr>        <th class=\"blank level0\" ></th>        <th class=\"col_heading level0 col0\" >FAILED_MISSION_OUTCOME</th>    </tr></thead><tbody>\n",
              "                <tr>\n",
              "                        <th id=\"T_41c8e710_1217_11ec_854d_0242ac1c0002level0_row0\" class=\"row_heading level0 row0\" >0</th>\n",
              "                        <td id=\"T_41c8e710_1217_11ec_854d_0242ac1c0002row0_col0\" class=\"data row0 col0\" >1</td>\n",
              "            </tr>\n",
              "    </tbody></table>"
            ]
          },
          "metadata": {}
        }
      ]
    },
    {
      "cell_type": "markdown",
      "metadata": {
        "id": "lSc80IXeicxb"
      },
      "source": [
        "### Task 8\n",
        "\n",
        "##### List the   names of the booster_versions which have carried the maximum payload mass. Use a subquery\n"
      ]
    },
    {
      "cell_type": "code",
      "metadata": {
        "id": "-iye_lDKicxb",
        "colab": {
          "base_uri": "https://localhost:8080/",
          "height": 421
        },
        "outputId": "9439f7f6-4b2d-4615-f94f-f05ce14f8984"
      },
      "source": [
        "sql = \"SELECT DISTINCT BOOSTER_VERSION, MAX(PAYLOAD_MASS__KG_) as Max_Payload_Mass FROM FALCON9 GROUP BY BOOSTER_VERSION ORDER BY Max_Payload_Mass DESC\"\n",
        "df = pd.read_sql(sql, pconn)\n",
        "df.head(12)"
      ],
      "execution_count": 26,
      "outputs": [
        {
          "output_type": "execute_result",
          "data": {
            "text/html": [
              "<div>\n",
              "<style scoped>\n",
              "    .dataframe tbody tr th:only-of-type {\n",
              "        vertical-align: middle;\n",
              "    }\n",
              "\n",
              "    .dataframe tbody tr th {\n",
              "        vertical-align: top;\n",
              "    }\n",
              "\n",
              "    .dataframe thead th {\n",
              "        text-align: right;\n",
              "    }\n",
              "</style>\n",
              "<table border=\"1\" class=\"dataframe\">\n",
              "  <thead>\n",
              "    <tr style=\"text-align: right;\">\n",
              "      <th></th>\n",
              "      <th>BOOSTER_VERSION</th>\n",
              "      <th>MAX_PAYLOAD_MASS</th>\n",
              "    </tr>\n",
              "  </thead>\n",
              "  <tbody>\n",
              "    <tr>\n",
              "      <th>0</th>\n",
              "      <td>F9 B5 B1048.4</td>\n",
              "      <td>15600</td>\n",
              "    </tr>\n",
              "    <tr>\n",
              "      <th>1</th>\n",
              "      <td>F9 B5 B1048.5</td>\n",
              "      <td>15600</td>\n",
              "    </tr>\n",
              "    <tr>\n",
              "      <th>2</th>\n",
              "      <td>F9 B5 B1049.4</td>\n",
              "      <td>15600</td>\n",
              "    </tr>\n",
              "    <tr>\n",
              "      <th>3</th>\n",
              "      <td>F9 B5 B1049.5</td>\n",
              "      <td>15600</td>\n",
              "    </tr>\n",
              "    <tr>\n",
              "      <th>4</th>\n",
              "      <td>F9 B5 B1049.7</td>\n",
              "      <td>15600</td>\n",
              "    </tr>\n",
              "    <tr>\n",
              "      <th>5</th>\n",
              "      <td>F9 B5 B1051.3</td>\n",
              "      <td>15600</td>\n",
              "    </tr>\n",
              "    <tr>\n",
              "      <th>6</th>\n",
              "      <td>F9 B5 B1051.4</td>\n",
              "      <td>15600</td>\n",
              "    </tr>\n",
              "    <tr>\n",
              "      <th>7</th>\n",
              "      <td>F9 B5 B1051.6</td>\n",
              "      <td>15600</td>\n",
              "    </tr>\n",
              "    <tr>\n",
              "      <th>8</th>\n",
              "      <td>F9 B5 B1056.4</td>\n",
              "      <td>15600</td>\n",
              "    </tr>\n",
              "    <tr>\n",
              "      <th>9</th>\n",
              "      <td>F9 B5 B1058.3</td>\n",
              "      <td>15600</td>\n",
              "    </tr>\n",
              "    <tr>\n",
              "      <th>10</th>\n",
              "      <td>F9 B5 B1060.2</td>\n",
              "      <td>15600</td>\n",
              "    </tr>\n",
              "    <tr>\n",
              "      <th>11</th>\n",
              "      <td>F9 B5 B1060.3</td>\n",
              "      <td>15600</td>\n",
              "    </tr>\n",
              "  </tbody>\n",
              "</table>\n",
              "</div>"
            ],
            "text/plain": [
              "   BOOSTER_VERSION  MAX_PAYLOAD_MASS\n",
              "0    F9 B5 B1048.4             15600\n",
              "1    F9 B5 B1048.5             15600\n",
              "2    F9 B5 B1049.4             15600\n",
              "3    F9 B5 B1049.5             15600\n",
              "4   F9 B5 B1049.7              15600\n",
              "5    F9 B5 B1051.3             15600\n",
              "6    F9 B5 B1051.4             15600\n",
              "7    F9 B5 B1051.6             15600\n",
              "8    F9 B5 B1056.4             15600\n",
              "9   F9 B5 B1058.3              15600\n",
              "10  F9 B5 B1060.2              15600\n",
              "11   F9 B5 B1060.3             15600"
            ]
          },
          "metadata": {},
          "execution_count": 26
        }
      ]
    },
    {
      "cell_type": "markdown",
      "metadata": {
        "id": "pG9MzW-Yicxb"
      },
      "source": [
        "### Task 9\n",
        "\n",
        "##### List the failed landing_outcomes in drone ship, their booster versions, and launch site names for in year 2015\n"
      ]
    },
    {
      "cell_type": "code",
      "metadata": {
        "id": "tYWefNphicxc",
        "colab": {
          "base_uri": "https://localhost:8080/",
          "height": 111
        },
        "outputId": "d3b3df8e-8084-4807-c5a6-8a02e98eb39d"
      },
      "source": [
        "sql = \"SELECT DATE, LANDING__OUTCOME, BOOSTER_VERSION, LAUNCH_SITE FROM FALCON9 WHERE LANDING__OUTCOME = 'Failure (drone ship)' AND DATE LIKE '%2015%' \"\n",
        "df = pd.read_sql(sql, pconn)\n",
        "df"
      ],
      "execution_count": 29,
      "outputs": [
        {
          "output_type": "execute_result",
          "data": {
            "text/html": [
              "<div>\n",
              "<style scoped>\n",
              "    .dataframe tbody tr th:only-of-type {\n",
              "        vertical-align: middle;\n",
              "    }\n",
              "\n",
              "    .dataframe tbody tr th {\n",
              "        vertical-align: top;\n",
              "    }\n",
              "\n",
              "    .dataframe thead th {\n",
              "        text-align: right;\n",
              "    }\n",
              "</style>\n",
              "<table border=\"1\" class=\"dataframe\">\n",
              "  <thead>\n",
              "    <tr style=\"text-align: right;\">\n",
              "      <th></th>\n",
              "      <th>DATE</th>\n",
              "      <th>LANDING__OUTCOME</th>\n",
              "      <th>BOOSTER_VERSION</th>\n",
              "      <th>LAUNCH_SITE</th>\n",
              "    </tr>\n",
              "  </thead>\n",
              "  <tbody>\n",
              "    <tr>\n",
              "      <th>0</th>\n",
              "      <td>2015-10-01</td>\n",
              "      <td>Failure (drone ship)</td>\n",
              "      <td>F9 v1.1 B1012</td>\n",
              "      <td>CCAFS LC-40</td>\n",
              "    </tr>\n",
              "    <tr>\n",
              "      <th>1</th>\n",
              "      <td>2015-04-14</td>\n",
              "      <td>Failure (drone ship)</td>\n",
              "      <td>F9 v1.1 B1015</td>\n",
              "      <td>CCAFS LC-40</td>\n",
              "    </tr>\n",
              "  </tbody>\n",
              "</table>\n",
              "</div>"
            ],
            "text/plain": [
              "         DATE      LANDING__OUTCOME BOOSTER_VERSION  LAUNCH_SITE\n",
              "0  2015-10-01  Failure (drone ship)   F9 v1.1 B1012  CCAFS LC-40\n",
              "1  2015-04-14  Failure (drone ship)   F9 v1.1 B1015  CCAFS LC-40"
            ]
          },
          "metadata": {},
          "execution_count": 29
        }
      ]
    },
    {
      "cell_type": "markdown",
      "metadata": {
        "id": "d84Rk9egicxc"
      },
      "source": [
        "### Task 10\n",
        "\n",
        "##### Rank the count of landing outcomes (such as Failure (drone ship) or Success (ground pad)) between the date 2010-06-04 and 2017-03-20, in descending order\n"
      ]
    },
    {
      "cell_type": "code",
      "metadata": {
        "id": "slSPhOFficxd",
        "colab": {
          "base_uri": "https://localhost:8080/",
          "height": 1000
        },
        "outputId": "73ab16b4-f60d-41a6-b54f-15186181dc52"
      },
      "source": [
        "sql = \"SELECT * FROM FALCON9 WHERE DATE > '2010-06-04' AND DATE < '2017-03-02' ORDER BY DATE DESC\"\n",
        "df = pd.read_sql(sql, pconn)\n",
        "df"
      ],
      "execution_count": 36,
      "outputs": [
        {
          "output_type": "execute_result",
          "data": {
            "text/html": [
              "<div>\n",
              "<style scoped>\n",
              "    .dataframe tbody tr th:only-of-type {\n",
              "        vertical-align: middle;\n",
              "    }\n",
              "\n",
              "    .dataframe tbody tr th {\n",
              "        vertical-align: top;\n",
              "    }\n",
              "\n",
              "    .dataframe thead th {\n",
              "        text-align: right;\n",
              "    }\n",
              "</style>\n",
              "<table border=\"1\" class=\"dataframe\">\n",
              "  <thead>\n",
              "    <tr style=\"text-align: right;\">\n",
              "      <th></th>\n",
              "      <th>DATE</th>\n",
              "      <th>TIME__UTC_</th>\n",
              "      <th>BOOSTER_VERSION</th>\n",
              "      <th>LAUNCH_SITE</th>\n",
              "      <th>PAYLOAD</th>\n",
              "      <th>PAYLOAD_MASS__KG_</th>\n",
              "      <th>ORBIT</th>\n",
              "      <th>CUSTOMER</th>\n",
              "      <th>MISSION_OUTCOME</th>\n",
              "      <th>LANDING__OUTCOME</th>\n",
              "    </tr>\n",
              "  </thead>\n",
              "  <tbody>\n",
              "    <tr>\n",
              "      <th>0</th>\n",
              "      <td>2017-02-19</td>\n",
              "      <td>14:39:00</td>\n",
              "      <td>F9 FT B1031.1</td>\n",
              "      <td>KSC LC-39A</td>\n",
              "      <td>SpaceX CRS-10</td>\n",
              "      <td>2490</td>\n",
              "      <td>LEO (ISS)</td>\n",
              "      <td>NASA (CRS)</td>\n",
              "      <td>Success</td>\n",
              "      <td>Success (ground pad)</td>\n",
              "    </tr>\n",
              "    <tr>\n",
              "      <th>1</th>\n",
              "      <td>2017-01-14</td>\n",
              "      <td>17:54:00</td>\n",
              "      <td>F9 FT B1029.1</td>\n",
              "      <td>VAFB SLC-4E</td>\n",
              "      <td>Iridium NEXT 1</td>\n",
              "      <td>9600</td>\n",
              "      <td>Polar LEO</td>\n",
              "      <td>Iridium Communications</td>\n",
              "      <td>Success</td>\n",
              "      <td>Success (drone ship)</td>\n",
              "    </tr>\n",
              "    <tr>\n",
              "      <th>2</th>\n",
              "      <td>2017-01-05</td>\n",
              "      <td>11:15:00</td>\n",
              "      <td>F9 FT B1032.1</td>\n",
              "      <td>KSC LC-39A</td>\n",
              "      <td>NROL-76</td>\n",
              "      <td>5300</td>\n",
              "      <td>LEO</td>\n",
              "      <td>NRO</td>\n",
              "      <td>Success</td>\n",
              "      <td>Success (ground pad)</td>\n",
              "    </tr>\n",
              "    <tr>\n",
              "      <th>3</th>\n",
              "      <td>2016-08-14</td>\n",
              "      <td>05:26:00</td>\n",
              "      <td>F9 FT B1026</td>\n",
              "      <td>CCAFS LC-40</td>\n",
              "      <td>JCSAT-16</td>\n",
              "      <td>4600</td>\n",
              "      <td>GTO</td>\n",
              "      <td>SKY Perfect JSAT Group</td>\n",
              "      <td>Success</td>\n",
              "      <td>Success (drone ship)</td>\n",
              "    </tr>\n",
              "    <tr>\n",
              "      <th>4</th>\n",
              "      <td>2016-08-04</td>\n",
              "      <td>20:43:00</td>\n",
              "      <td>F9 FT B1021.1</td>\n",
              "      <td>CCAFS LC-40</td>\n",
              "      <td>SpaceX CRS-8</td>\n",
              "      <td>3136</td>\n",
              "      <td>LEO (ISS)</td>\n",
              "      <td>NASA (CRS)</td>\n",
              "      <td>Success</td>\n",
              "      <td>Success (drone ship)</td>\n",
              "    </tr>\n",
              "    <tr>\n",
              "      <th>5</th>\n",
              "      <td>2016-07-18</td>\n",
              "      <td>04:45:00</td>\n",
              "      <td>F9 FT B1025.1</td>\n",
              "      <td>CCAFS LC-40</td>\n",
              "      <td>SpaceX CRS-9</td>\n",
              "      <td>2257</td>\n",
              "      <td>LEO (ISS)</td>\n",
              "      <td>NASA (CRS)</td>\n",
              "      <td>Success</td>\n",
              "      <td>Success (ground pad)</td>\n",
              "    </tr>\n",
              "    <tr>\n",
              "      <th>6</th>\n",
              "      <td>2016-06-15</td>\n",
              "      <td>14:29:00</td>\n",
              "      <td>F9 FT B1024</td>\n",
              "      <td>CCAFS LC-40</td>\n",
              "      <td>ABS-2A Eutelsat 117 West B</td>\n",
              "      <td>3600</td>\n",
              "      <td>GTO</td>\n",
              "      <td>ABS Eutelsat</td>\n",
              "      <td>Success</td>\n",
              "      <td>Failure (drone ship)</td>\n",
              "    </tr>\n",
              "    <tr>\n",
              "      <th>7</th>\n",
              "      <td>2016-06-05</td>\n",
              "      <td>05:21:00</td>\n",
              "      <td>F9 FT B1022</td>\n",
              "      <td>CCAFS LC-40</td>\n",
              "      <td>JCSAT-14</td>\n",
              "      <td>4696</td>\n",
              "      <td>GTO</td>\n",
              "      <td>SKY Perfect JSAT Group</td>\n",
              "      <td>Success</td>\n",
              "      <td>Success (drone ship)</td>\n",
              "    </tr>\n",
              "    <tr>\n",
              "      <th>8</th>\n",
              "      <td>2016-05-27</td>\n",
              "      <td>21:39:00</td>\n",
              "      <td>F9 FT B1023.1</td>\n",
              "      <td>CCAFS LC-40</td>\n",
              "      <td>Thaicom 8</td>\n",
              "      <td>3100</td>\n",
              "      <td>GTO</td>\n",
              "      <td>Thaicom</td>\n",
              "      <td>Success</td>\n",
              "      <td>Success (drone ship)</td>\n",
              "    </tr>\n",
              "    <tr>\n",
              "      <th>9</th>\n",
              "      <td>2016-04-03</td>\n",
              "      <td>23:35:00</td>\n",
              "      <td>F9 FT B1020</td>\n",
              "      <td>CCAFS LC-40</td>\n",
              "      <td>SES-9</td>\n",
              "      <td>5271</td>\n",
              "      <td>GTO</td>\n",
              "      <td>SES</td>\n",
              "      <td>Success</td>\n",
              "      <td>Failure (drone ship)</td>\n",
              "    </tr>\n",
              "    <tr>\n",
              "      <th>10</th>\n",
              "      <td>2016-01-17</td>\n",
              "      <td>18:42:00</td>\n",
              "      <td>F9 v1.1 B1017</td>\n",
              "      <td>VAFB SLC-4E</td>\n",
              "      <td>Jason-3</td>\n",
              "      <td>553</td>\n",
              "      <td>LEO</td>\n",
              "      <td>NASA (LSP) NOAA CNES</td>\n",
              "      <td>Success</td>\n",
              "      <td>Failure (drone ship)</td>\n",
              "    </tr>\n",
              "    <tr>\n",
              "      <th>11</th>\n",
              "      <td>2015-12-22</td>\n",
              "      <td>01:29:00</td>\n",
              "      <td>F9 FT B1019</td>\n",
              "      <td>CCAFS LC-40</td>\n",
              "      <td>OG2 Mission 2  11 Orbcomm-OG2 satellites</td>\n",
              "      <td>2034</td>\n",
              "      <td>LEO</td>\n",
              "      <td>Orbcomm</td>\n",
              "      <td>Success</td>\n",
              "      <td>Success (ground pad)</td>\n",
              "    </tr>\n",
              "    <tr>\n",
              "      <th>12</th>\n",
              "      <td>2015-11-02</td>\n",
              "      <td>23:03:00</td>\n",
              "      <td>F9 v1.1 B1013</td>\n",
              "      <td>CCAFS LC-40</td>\n",
              "      <td>DSCOVR</td>\n",
              "      <td>570</td>\n",
              "      <td>HEO</td>\n",
              "      <td>U.S. Air Force NASA NOAA</td>\n",
              "      <td>Success</td>\n",
              "      <td>Controlled (ocean)</td>\n",
              "    </tr>\n",
              "    <tr>\n",
              "      <th>13</th>\n",
              "      <td>2015-10-01</td>\n",
              "      <td>09:47:00</td>\n",
              "      <td>F9 v1.1 B1012</td>\n",
              "      <td>CCAFS LC-40</td>\n",
              "      <td>SpaceX CRS-5</td>\n",
              "      <td>2395</td>\n",
              "      <td>LEO (ISS)</td>\n",
              "      <td>NASA (CRS)</td>\n",
              "      <td>Success</td>\n",
              "      <td>Failure (drone ship)</td>\n",
              "    </tr>\n",
              "    <tr>\n",
              "      <th>14</th>\n",
              "      <td>2015-06-28</td>\n",
              "      <td>14:21:00</td>\n",
              "      <td>F9 v1.1 B1018</td>\n",
              "      <td>CCAFS LC-40</td>\n",
              "      <td>SpaceX CRS-7</td>\n",
              "      <td>1952</td>\n",
              "      <td>LEO (ISS)</td>\n",
              "      <td>NASA (CRS)</td>\n",
              "      <td>Failure (in flight)</td>\n",
              "      <td>Precluded (drone ship)</td>\n",
              "    </tr>\n",
              "    <tr>\n",
              "      <th>15</th>\n",
              "      <td>2015-04-27</td>\n",
              "      <td>23:03:00</td>\n",
              "      <td>F9 v1.1 B1016</td>\n",
              "      <td>CCAFS LC-40</td>\n",
              "      <td>Turkmen 52 / MonacoSAT</td>\n",
              "      <td>4707</td>\n",
              "      <td>GTO</td>\n",
              "      <td>Turkmenistan National Space Agency</td>\n",
              "      <td>Success</td>\n",
              "      <td>No attempt</td>\n",
              "    </tr>\n",
              "    <tr>\n",
              "      <th>16</th>\n",
              "      <td>2015-04-14</td>\n",
              "      <td>20:10:00</td>\n",
              "      <td>F9 v1.1 B1015</td>\n",
              "      <td>CCAFS LC-40</td>\n",
              "      <td>SpaceX CRS-6</td>\n",
              "      <td>1898</td>\n",
              "      <td>LEO (ISS)</td>\n",
              "      <td>NASA (CRS)</td>\n",
              "      <td>Success</td>\n",
              "      <td>Failure (drone ship)</td>\n",
              "    </tr>\n",
              "    <tr>\n",
              "      <th>17</th>\n",
              "      <td>2015-02-03</td>\n",
              "      <td>03:50:00</td>\n",
              "      <td>F9 v1.1 B1014</td>\n",
              "      <td>CCAFS LC-40</td>\n",
              "      <td>ABS-3A Eutelsat 115 West B</td>\n",
              "      <td>4159</td>\n",
              "      <td>GTO</td>\n",
              "      <td>ABS Eutelsat</td>\n",
              "      <td>Success</td>\n",
              "      <td>No attempt</td>\n",
              "    </tr>\n",
              "    <tr>\n",
              "      <th>18</th>\n",
              "      <td>2014-09-21</td>\n",
              "      <td>05:52:00</td>\n",
              "      <td>F9 v1.1 B1010</td>\n",
              "      <td>CCAFS LC-40</td>\n",
              "      <td>SpaceX CRS-4</td>\n",
              "      <td>2216</td>\n",
              "      <td>LEO (ISS)</td>\n",
              "      <td>NASA (CRS)</td>\n",
              "      <td>Success</td>\n",
              "      <td>Uncontrolled (ocean)</td>\n",
              "    </tr>\n",
              "    <tr>\n",
              "      <th>19</th>\n",
              "      <td>2014-07-14</td>\n",
              "      <td>15:15:00</td>\n",
              "      <td>F9 v1.1</td>\n",
              "      <td>CCAFS LC-40</td>\n",
              "      <td>OG2 Mission 1  6 Orbcomm-OG2 satellites</td>\n",
              "      <td>1316</td>\n",
              "      <td>LEO</td>\n",
              "      <td>Orbcomm</td>\n",
              "      <td>Success</td>\n",
              "      <td>Controlled (ocean)</td>\n",
              "    </tr>\n",
              "    <tr>\n",
              "      <th>20</th>\n",
              "      <td>2014-07-09</td>\n",
              "      <td>05:00:00</td>\n",
              "      <td>F9 v1.1 B1011</td>\n",
              "      <td>CCAFS LC-40</td>\n",
              "      <td>AsiaSat 6</td>\n",
              "      <td>4428</td>\n",
              "      <td>GTO</td>\n",
              "      <td>AsiaSat</td>\n",
              "      <td>Success</td>\n",
              "      <td>No attempt</td>\n",
              "    </tr>\n",
              "    <tr>\n",
              "      <th>21</th>\n",
              "      <td>2014-06-01</td>\n",
              "      <td>22:06:00</td>\n",
              "      <td>F9 v1.1</td>\n",
              "      <td>CCAFS LC-40</td>\n",
              "      <td>Thaicom 6</td>\n",
              "      <td>3325</td>\n",
              "      <td>GTO</td>\n",
              "      <td>Thaicom</td>\n",
              "      <td>Success</td>\n",
              "      <td>No attempt</td>\n",
              "    </tr>\n",
              "    <tr>\n",
              "      <th>22</th>\n",
              "      <td>2014-05-08</td>\n",
              "      <td>08:00:00</td>\n",
              "      <td>F9 v1.1</td>\n",
              "      <td>CCAFS LC-40</td>\n",
              "      <td>AsiaSat 8</td>\n",
              "      <td>4535</td>\n",
              "      <td>GTO</td>\n",
              "      <td>AsiaSat</td>\n",
              "      <td>Success</td>\n",
              "      <td>No attempt</td>\n",
              "    </tr>\n",
              "    <tr>\n",
              "      <th>23</th>\n",
              "      <td>2014-04-18</td>\n",
              "      <td>19:25:00</td>\n",
              "      <td>F9 v1.1</td>\n",
              "      <td>CCAFS LC-40</td>\n",
              "      <td>SpaceX CRS-3</td>\n",
              "      <td>2296</td>\n",
              "      <td>LEO (ISS)</td>\n",
              "      <td>NASA (CRS)</td>\n",
              "      <td>Success</td>\n",
              "      <td>Controlled (ocean)</td>\n",
              "    </tr>\n",
              "    <tr>\n",
              "      <th>24</th>\n",
              "      <td>2013-09-29</td>\n",
              "      <td>16:00:00</td>\n",
              "      <td>F9 v1.1  B1003</td>\n",
              "      <td>VAFB SLC-4E</td>\n",
              "      <td>CASSIOPE</td>\n",
              "      <td>500</td>\n",
              "      <td>Polar LEO</td>\n",
              "      <td>MDA</td>\n",
              "      <td>Success</td>\n",
              "      <td>Uncontrolled (ocean)</td>\n",
              "    </tr>\n",
              "    <tr>\n",
              "      <th>25</th>\n",
              "      <td>2013-03-12</td>\n",
              "      <td>22:41:00</td>\n",
              "      <td>F9 v1.1</td>\n",
              "      <td>CCAFS LC-40</td>\n",
              "      <td>SES-8</td>\n",
              "      <td>3170</td>\n",
              "      <td>GTO</td>\n",
              "      <td>SES</td>\n",
              "      <td>Success</td>\n",
              "      <td>No attempt</td>\n",
              "    </tr>\n",
              "    <tr>\n",
              "      <th>26</th>\n",
              "      <td>2013-01-03</td>\n",
              "      <td>15:10:00</td>\n",
              "      <td>F9 v1.0  B0007</td>\n",
              "      <td>CCAFS LC-40</td>\n",
              "      <td>SpaceX CRS-2</td>\n",
              "      <td>677</td>\n",
              "      <td>LEO (ISS)</td>\n",
              "      <td>NASA (CRS)</td>\n",
              "      <td>Success</td>\n",
              "      <td>No attempt</td>\n",
              "    </tr>\n",
              "    <tr>\n",
              "      <th>27</th>\n",
              "      <td>2012-08-10</td>\n",
              "      <td>00:35:00</td>\n",
              "      <td>F9 v1.0  B0006</td>\n",
              "      <td>CCAFS LC-40</td>\n",
              "      <td>SpaceX CRS-1</td>\n",
              "      <td>500</td>\n",
              "      <td>LEO (ISS)</td>\n",
              "      <td>NASA (CRS)</td>\n",
              "      <td>Success</td>\n",
              "      <td>No attempt</td>\n",
              "    </tr>\n",
              "    <tr>\n",
              "      <th>28</th>\n",
              "      <td>2012-05-22</td>\n",
              "      <td>07:44:00</td>\n",
              "      <td>F9 v1.0  B0005</td>\n",
              "      <td>CCAFS LC-40</td>\n",
              "      <td>Dragon demo flight C2</td>\n",
              "      <td>525</td>\n",
              "      <td>LEO (ISS)</td>\n",
              "      <td>NASA (COTS)</td>\n",
              "      <td>Success</td>\n",
              "      <td>No attempt</td>\n",
              "    </tr>\n",
              "    <tr>\n",
              "      <th>29</th>\n",
              "      <td>2010-08-12</td>\n",
              "      <td>15:43:00</td>\n",
              "      <td>F9 v1.0  B0004</td>\n",
              "      <td>CCAFS LC-40</td>\n",
              "      <td>Dragon demo flight C1, two CubeSats, barrel of...</td>\n",
              "      <td>0</td>\n",
              "      <td>LEO (ISS)</td>\n",
              "      <td>NASA (COTS) NRO</td>\n",
              "      <td>Success</td>\n",
              "      <td>Failure (parachute)</td>\n",
              "    </tr>\n",
              "  </tbody>\n",
              "</table>\n",
              "</div>"
            ],
            "text/plain": [
              "          DATE TIME__UTC_  ...      MISSION_OUTCOME        LANDING__OUTCOME\n",
              "0   2017-02-19   14:39:00  ...              Success    Success (ground pad)\n",
              "1   2017-01-14   17:54:00  ...              Success    Success (drone ship)\n",
              "2   2017-01-05   11:15:00  ...              Success    Success (ground pad)\n",
              "3   2016-08-14   05:26:00  ...              Success    Success (drone ship)\n",
              "4   2016-08-04   20:43:00  ...              Success    Success (drone ship)\n",
              "5   2016-07-18   04:45:00  ...              Success    Success (ground pad)\n",
              "6   2016-06-15   14:29:00  ...              Success    Failure (drone ship)\n",
              "7   2016-06-05   05:21:00  ...              Success    Success (drone ship)\n",
              "8   2016-05-27   21:39:00  ...              Success    Success (drone ship)\n",
              "9   2016-04-03   23:35:00  ...              Success    Failure (drone ship)\n",
              "10  2016-01-17   18:42:00  ...              Success    Failure (drone ship)\n",
              "11  2015-12-22   01:29:00  ...              Success    Success (ground pad)\n",
              "12  2015-11-02   23:03:00  ...              Success      Controlled (ocean)\n",
              "13  2015-10-01   09:47:00  ...              Success    Failure (drone ship)\n",
              "14  2015-06-28   14:21:00  ...  Failure (in flight)  Precluded (drone ship)\n",
              "15  2015-04-27   23:03:00  ...              Success              No attempt\n",
              "16  2015-04-14   20:10:00  ...              Success    Failure (drone ship)\n",
              "17  2015-02-03   03:50:00  ...              Success              No attempt\n",
              "18  2014-09-21   05:52:00  ...              Success    Uncontrolled (ocean)\n",
              "19  2014-07-14   15:15:00  ...              Success      Controlled (ocean)\n",
              "20  2014-07-09   05:00:00  ...              Success              No attempt\n",
              "21  2014-06-01   22:06:00  ...              Success              No attempt\n",
              "22  2014-05-08   08:00:00  ...              Success              No attempt\n",
              "23  2014-04-18   19:25:00  ...              Success      Controlled (ocean)\n",
              "24  2013-09-29   16:00:00  ...              Success    Uncontrolled (ocean)\n",
              "25  2013-03-12   22:41:00  ...              Success              No attempt\n",
              "26  2013-01-03   15:10:00  ...              Success              No attempt\n",
              "27  2012-08-10   00:35:00  ...              Success              No attempt\n",
              "28  2012-05-22   07:44:00  ...              Success              No attempt\n",
              "29  2010-08-12   15:43:00  ...              Success     Failure (parachute)\n",
              "\n",
              "[30 rows x 10 columns]"
            ]
          },
          "metadata": {},
          "execution_count": 36
        }
      ]
    },
    {
      "cell_type": "markdown",
      "metadata": {
        "id": "0H3PCmB_icxd"
      },
      "source": [
        "### Reference Links\n",
        "\n",
        "*   <a href =\"https://cf-courses-data.s3.us.cloud-object-storage.appdomain.cloud/IBMDeveloperSkillsNetwork-DB0201EN-SkillsNetwork/labs/Labs_Coursera_V5/labs/Lab%20-%20String%20Patterns%20-%20Sorting%20-%20Grouping/instructional-labs.md.html?utm_medium=Exinfluencer&utm_source=Exinfluencer&utm_content=000026UJ&utm_term=10006555&utm_id=NA-SkillsNetwork-Channel-SkillsNetworkCoursesIBMDS0321ENSkillsNetwork26802033-2021-01-01&origin=www.coursera.org\">Hands-on Lab : String Patterns, Sorting and Grouping</a>\n",
        "\n",
        "*   <a  href=\"https://cf-courses-data.s3.us.cloud-object-storage.appdomain.cloud/IBMDeveloperSkillsNetwork-DB0201EN-SkillsNetwork/labs/Labs_Coursera_V5/labs/Lab%20-%20Built-in%20functions%20/Hands-on_Lab__Built-in_Functions.md.html?utm_medium=Exinfluencer&utm_source=Exinfluencer&utm_content=000026UJ&utm_term=10006555&utm_id=NA-SkillsNetwork-Channel-SkillsNetworkCoursesIBMDS0321ENSkillsNetwork26802033-2021-01-01&origin=www.coursera.org\">Hands-on Lab: Built-in functions</a>\n",
        "\n",
        "*   <a  href=\"https://cf-courses-data.s3.us.cloud-object-storage.appdomain.cloud/IBMDeveloperSkillsNetwork-DB0201EN-SkillsNetwork/labs/Labs_Coursera_V5/labs/Lab%20-%20Sub-queries%20and%20Nested%20SELECTs%20/instructional-labs.md.html?utm_medium=Exinfluencer&utm_source=Exinfluencer&utm_content=000026UJ&utm_term=10006555&utm_id=NA-SkillsNetwork-Channel-SkillsNetworkCoursesIBMDS0321ENSkillsNetwork26802033-2021-01-01&origin=www.coursera.org\">Hands-on Lab : Sub-queries and Nested SELECT Statements</a>\n",
        "\n",
        "*   <a href=\"https://cf-courses-data.s3.us.cloud-object-storage.appdomain.cloud/IBMDeveloperSkillsNetwork-DB0201EN-SkillsNetwork/labs/Module%205/DB0201EN-Week3-1-3-SQLmagic.ipynb?utm_medium=Exinfluencer&utm_source=Exinfluencer&utm_content=000026UJ&utm_term=10006555&utm_id=NA-SkillsNetwork-Channel-SkillsNetworkCoursesIBMDS0321ENSkillsNetwork26802033-2021-01-01\">Hands-on Tutorial: Accessing Databases with SQL magic</a>\n",
        "\n",
        "*   <a href= \"https://cf-courses-data.s3.us.cloud-object-storage.appdomain.cloud/IBMDeveloperSkillsNetwork-DB0201EN-SkillsNetwork/labs/Module%205/DB0201EN-Week3-1-4-Analyzing.ipynb?utm_medium=Exinfluencer&utm_source=Exinfluencer&utm_content=000026UJ&utm_term=10006555&utm_id=NA-SkillsNetwork-Channel-SkillsNetworkCoursesIBMDS0321ENSkillsNetwork26802033-2021-01-01\">Hands-on Lab: Analyzing a real World Data Set</a>\n"
      ]
    },
    {
      "cell_type": "markdown",
      "metadata": {
        "id": "rkhqfWwwicxe"
      },
      "source": [
        "## Author(s)\n",
        "\n",
        "<h4> Lakshmi Holla </h4>\n"
      ]
    },
    {
      "cell_type": "markdown",
      "metadata": {
        "id": "-SMTq-Caicxe"
      },
      "source": [
        "## Other Contributors\n",
        "\n",
        "<h4> Rav Ahuja </h4>\n"
      ]
    },
    {
      "cell_type": "markdown",
      "metadata": {
        "id": "6j0Dlj3Uicxg"
      },
      "source": [
        "## Change log\n",
        "\n",
        "| Date       | Version | Changed by    | Change Description        |\n",
        "| ---------- | ------- | ------------- | ------------------------- |\n",
        "| 2021-08-24 | 0.3     | Lakshmi Holla | Added library update      |\n",
        "| 2021-07-09 | 0.2     | Lakshmi Holla | Changes made in magic sql |\n",
        "| 2021-05-20 | 0.1     | Lakshmi Holla | Created Initial Version   |\n"
      ]
    },
    {
      "cell_type": "markdown",
      "metadata": {
        "id": "zuGTJTm2icxh"
      },
      "source": [
        "## <h3 align=\"center\"> © IBM Corporation 2021. All rights reserved. <h3/>\n"
      ]
    }
  ]
}